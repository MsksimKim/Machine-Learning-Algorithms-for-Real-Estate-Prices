{
  "cells": [
    {
      "cell_type": "code",
      "execution_count": null,
      "metadata": {
        "id": "jiZZrkNJrtrj"
      },
      "outputs": [],
      "source": [
        "import numpy as np\n",
        "import pandas as pd\n",
        "from sklearn.ensemble import RandomForestClassifier\n",
        "from sklearn.metrics import roc_curve, auc\n",
        "import matplotlib.pyplot as plt\n",
        "from sklearn.metrics import mean_squared_log_error\n",
        "import os\n",
        "import seaborn as sns\n",
        "from sklearn import metrics, tree, ensemble\n",
        "from sklearn.compose import ColumnTransformer"
      ]
    },
    {
      "cell_type": "code",
      "execution_count": null,
      "metadata": {
        "id": "H2aWQ3S2ruVS"
      },
      "outputs": [],
      "source": [
        "from sklearn.linear_model import LinearRegression\n",
        "from sklearn.metrics import mean_squared_error, mean_absolute_percentage_error\n",
        "from sklearn.ensemble import RandomForestRegressor\n",
        "from sklearn.metrics import mean_squared_error\n",
        "import matplotlib.pyplot as plt\n",
        "import xgboost as xgb\n",
        "import numpy as np\n",
        "from sklearn.tree import DecisionTreeRegressor\n",
        "from sklearn.tree import plot_tree\n",
        "import statsmodels.formula.api as smf\n",
        "import statsmodels.api as sm\n",
        "import tensorflow as tf\n",
        "from tensorflow import keras\n",
        "from tensorflow.keras.models import Sequential\n",
        "from tensorflow.keras.layers import Dense\n",
        "from keras.callbacks import EarlyStopping, ModelCheckpoint\n",
        "from sklearn.model_selection import train_test_split\n",
        "from sklearn.preprocessing import StandardScaler\n",
        "from sklearn.metrics import mean_squared_error"
      ]
    },
    {
      "cell_type": "code",
      "execution_count": null,
      "metadata": {
        "colab": {
          "base_uri": "https://localhost:8080/"
        },
        "id": "XGA-AbvKruaf",
        "outputId": "a277c800-764e-4113-a597-6ee90a07dd66"
      },
      "outputs": [
        {
          "output_type": "stream",
          "name": "stdout",
          "text": [
            "Mounted at /content/drive\n"
          ]
        }
      ],
      "source": [
        "from google.colab import drive\n",
        "drive.mount('/content/drive')"
      ]
    },
    {
      "cell_type": "code",
      "execution_count": null,
      "metadata": {
        "id": "51r39zp7rukq"
      },
      "outputs": [],
      "source": [
        "keras.utils.set_random_seed(1)\n",
        "tf.config.experimental.enable_op_determinism()"
      ]
    },
    {
      "cell_type": "code",
      "execution_count": null,
      "metadata": {
        "id": "Iv1rLZkDr4HR"
      },
      "outputs": [],
      "source": [
        "file_path = \"/content/drive/MyDrive/Colab Notebooks/data_final5.csv\""
      ]
    },
    {
      "cell_type": "code",
      "execution_count": null,
      "metadata": {
        "id": "0996yq6mskK0"
      },
      "outputs": [],
      "source": [
        "df = pd.read_csv(file_path)"
      ]
    },
    {
      "cell_type": "code",
      "execution_count": null,
      "metadata": {
        "id": "JffUZ2NGskVP"
      },
      "outputs": [],
      "source": [
        "df['building_type'] = df['building_type'].astype('category')"
      ]
    },
    {
      "cell_type": "code",
      "execution_count": null,
      "metadata": {
        "id": "fDRyDCJvsoMx"
      },
      "outputs": [],
      "source": [
        "datatrain = df.iloc[:393588]\n",
        "datatest = df.iloc[393588:491986]"
      ]
    },
    {
      "cell_type": "code",
      "execution_count": null,
      "metadata": {
        "id": "1vNrAleRtWPC"
      },
      "outputs": [],
      "source": [
        "# Разделение данных на тренировочный и тестовый наборы\n",
        "X_train = datatrain[['geo_lon', 'geo_lat', 'building_type', 'level', 'levels', 'rooms',\n",
        "        'area', 'kitchen_area', 'object_type', 'distance_to_cemetery',\n",
        "        'distance_to_attractions', 'distance_to_green_zone',\n",
        "        'distance_to_metro_station', 'distance_to_polygon', 'KeyRate']]\n",
        "y_train = datatrain['priceL']\n",
        "\n",
        "X_test = datatest[['geo_lon', 'geo_lat', 'building_type', 'level', 'levels', 'rooms',\n",
        "        'area', 'kitchen_area', 'object_type', 'distance_to_cemetery',\n",
        "        'distance_to_attractions', 'distance_to_green_zone',\n",
        "        'distance_to_metro_station', 'distance_to_polygon', 'KeyRate']]\n",
        "y_test = datatest['price']\n",
        "\n",
        "a = 98398\n",
        "\n",
        "#train (new)\n",
        "X_trainn = X_train[:-a]\n",
        "y_trainn = y_train[:-a]\n",
        "#valid\n",
        "X_trainV = X_train[-a:]\n",
        "y_trainV = y_train[-a:]"
      ]
    },
    {
      "cell_type": "code",
      "source": [
        "num_features = list(X_train.columns)\n",
        "preprocessor = ColumnTransformer(\n",
        "    transformers=[\n",
        "        ('num', StandardScaler(), num_features)\n",
        "    ])\n",
        "\n",
        "X_trainN_norm = preprocessor.fit_transform(X_trainn)\n",
        "X_test_norm = preprocessor.transform(X_test)\n",
        "X_trainV_norm = preprocessor.transform(X_trainV)\n",
        "X_train.shape, X_test.shape"
      ],
      "metadata": {
        "colab": {
          "base_uri": "https://localhost:8080/"
        },
        "id": "fjQnVhuRiLc_",
        "outputId": "802de2db-b6ef-4707-ffbd-a3bf7bc4f742"
      },
      "execution_count": null,
      "outputs": [
        {
          "output_type": "execute_result",
          "data": {
            "text/plain": [
              "((393588, 15), (98398, 15))"
            ]
          },
          "metadata": {},
          "execution_count": 44
        }
      ]
    },
    {
      "cell_type": "code",
      "execution_count": null,
      "metadata": {
        "id": "XWU0E9-xro3R"
      },
      "outputs": [],
      "source": [
        "\n",
        "# Создание модели\n",
        "model = keras.models.Sequential()\n",
        "model.add(keras.layers.Dense(64, activation='relu'))\n",
        "model.add(keras.layers.Dropout(rate=0.2))\n",
        "model.add(keras.layers.Dense(32, activation='relu'))\n",
        "model.add(keras.layers.Dropout(rate=0.2))\n",
        "model.add(keras.layers.Dense(16, activation='relu'))\n",
        "model.add(keras.layers.Dropout(rate=0.2))\n",
        "model.add(keras.layers.Dense(1, activation='relu'))\n",
        "\n",
        "# Компиляция модели\n",
        "model.compile(loss='mean_squared_error', optimizer='rmsprop', metrics=['mape'])\n",
        "\n",
        "\n",
        "os.makedirs(\"models\", exist_ok=True)\n",
        "\n",
        "# создаем чекпойнты для сохранения модели и редьюс он плато схедуллер\n",
        "checkpoint = keras.callbacks.ModelCheckpoint(\"models/model.keras\", verbose=0,\n",
        "                                             save_best_only=True, monitor='val_mape',\n",
        "                                             save_weights_only=False, mode='auto')\n",
        "\n",
        "\n",
        "reduce_lr = keras.callbacks.ReduceLROnPlateau(monitor='val_loss', factor=0.1,\n",
        "                                              patience=5, min_lr=0.01/100)\n"
      ]
    },
    {
      "cell_type": "code",
      "execution_count": null,
      "metadata": {
        "id": "jQm_k5wdrr2c",
        "colab": {
          "base_uri": "https://localhost:8080/"
        },
        "outputId": "0e2686ab-59d9-4b34-ad88-7f68c74f3b6a"
      },
      "outputs": [
        {
          "output_type": "stream",
          "name": "stdout",
          "text": [
            "Epoch 1/100\n",
            "1154/1154 [==============================] - 13s 8ms/step - loss: 16.2182 - mape: 18.8225 - val_loss: 0.5542 - val_mape: 3.9997 - lr: 0.0010\n",
            "Epoch 2/100\n",
            "1154/1154 [==============================] - 7s 6ms/step - loss: 6.8791 - mape: 13.1048 - val_loss: 0.5834 - val_mape: 4.2494 - lr: 0.0010\n",
            "Epoch 3/100\n",
            "1154/1154 [==============================] - 5s 5ms/step - loss: 5.3481 - mape: 11.5386 - val_loss: 0.1810 - val_mape: 2.1555 - lr: 0.0010\n",
            "Epoch 4/100\n",
            "1154/1154 [==============================] - 6s 5ms/step - loss: 4.2745 - mape: 10.3891 - val_loss: 0.0867 - val_mape: 1.4295 - lr: 0.0010\n",
            "Epoch 5/100\n",
            "1154/1154 [==============================] - 7s 6ms/step - loss: 3.5149 - mape: 9.4789 - val_loss: 0.0893 - val_mape: 1.4957 - lr: 0.0010\n",
            "Epoch 6/100\n",
            "1154/1154 [==============================] - 5s 5ms/step - loss: 2.8764 - mape: 8.5761 - val_loss: 0.1138 - val_mape: 1.7339 - lr: 0.0010\n",
            "Epoch 7/100\n",
            "1154/1154 [==============================] - 8s 7ms/step - loss: 2.3201 - mape: 7.6867 - val_loss: 0.0730 - val_mape: 1.2783 - lr: 0.0010\n",
            "Epoch 8/100\n",
            "1154/1154 [==============================] - 5s 4ms/step - loss: 1.8291 - mape: 6.8074 - val_loss: 0.1591 - val_mape: 2.1398 - lr: 0.0010\n",
            "Epoch 9/100\n",
            "1154/1154 [==============================] - 7s 6ms/step - loss: 1.4008 - mape: 5.9379 - val_loss: 0.0627 - val_mape: 1.1645 - lr: 0.0010\n",
            "Epoch 10/100\n",
            "1154/1154 [==============================] - 6s 5ms/step - loss: 1.0226 - mape: 5.0511 - val_loss: 0.0942 - val_mape: 1.5125 - lr: 0.0010\n",
            "Epoch 11/100\n",
            "1154/1154 [==============================] - 6s 5ms/step - loss: 0.7164 - mape: 4.2045 - val_loss: 0.0554 - val_mape: 1.0750 - lr: 0.0010\n",
            "Epoch 12/100\n",
            "1154/1154 [==============================] - 7s 6ms/step - loss: 0.4664 - mape: 3.3652 - val_loss: 0.0750 - val_mape: 1.2807 - lr: 0.0010\n",
            "Epoch 13/100\n",
            "1154/1154 [==============================] - 6s 5ms/step - loss: 0.2751 - mape: 2.5495 - val_loss: 0.0435 - val_mape: 0.9407 - lr: 0.0010\n",
            "Epoch 14/100\n",
            "1154/1154 [==============================] - 7s 6ms/step - loss: 0.1471 - mape: 1.8183 - val_loss: 0.0368 - val_mape: 0.8790 - lr: 0.0010\n",
            "Epoch 15/100\n",
            "1154/1154 [==============================] - 6s 5ms/step - loss: 0.0753 - mape: 1.2539 - val_loss: 0.0390 - val_mape: 0.9239 - lr: 0.0010\n",
            "Epoch 16/100\n",
            "1154/1154 [==============================] - 5s 4ms/step - loss: 0.0546 - mape: 1.0540 - val_loss: 0.0451 - val_mape: 0.9663 - lr: 0.0010\n",
            "Epoch 17/100\n",
            "1154/1154 [==============================] - 7s 6ms/step - loss: 0.0513 - mape: 1.0229 - val_loss: 0.0379 - val_mape: 0.9128 - lr: 0.0010\n",
            "Epoch 18/100\n",
            "1154/1154 [==============================] - 6s 5ms/step - loss: 0.0493 - mape: 1.0047 - val_loss: 0.0416 - val_mape: 0.9402 - lr: 0.0010\n",
            "Epoch 19/100\n",
            "1154/1154 [==============================] - 7s 6ms/step - loss: 0.0485 - mape: 0.9951 - val_loss: 0.0454 - val_mape: 0.9764 - lr: 0.0010\n",
            "Epoch 20/100\n",
            "1154/1154 [==============================] - 6s 5ms/step - loss: 0.0472 - mape: 0.9841 - val_loss: 0.0363 - val_mape: 0.8757 - lr: 1.0000e-04\n",
            "Epoch 21/100\n",
            "1154/1154 [==============================] - 5s 5ms/step - loss: 0.0472 - mape: 0.9824 - val_loss: 0.0363 - val_mape: 0.8789 - lr: 1.0000e-04\n",
            "Epoch 22/100\n",
            "1154/1154 [==============================] - 7s 6ms/step - loss: 0.0472 - mape: 0.9820 - val_loss: 0.0368 - val_mape: 0.8837 - lr: 1.0000e-04\n",
            "Epoch 23/100\n",
            "1154/1154 [==============================] - 6s 5ms/step - loss: 0.0469 - mape: 0.9813 - val_loss: 0.0371 - val_mape: 0.8865 - lr: 1.0000e-04\n",
            "Epoch 24/100\n",
            "1154/1154 [==============================] - 6s 6ms/step - loss: 0.0468 - mape: 0.9796 - val_loss: 0.0361 - val_mape: 0.8792 - lr: 1.0000e-04\n",
            "Epoch 25/100\n",
            "1154/1154 [==============================] - 5s 5ms/step - loss: 0.0468 - mape: 0.9782 - val_loss: 0.0354 - val_mape: 0.8656 - lr: 1.0000e-04\n",
            "Epoch 26/100\n",
            "1154/1154 [==============================] - 7s 6ms/step - loss: 0.0470 - mape: 0.9799 - val_loss: 0.0365 - val_mape: 0.8841 - lr: 1.0000e-04\n",
            "Epoch 27/100\n",
            "1154/1154 [==============================] - 7s 6ms/step - loss: 0.0467 - mape: 0.9782 - val_loss: 0.0359 - val_mape: 0.8741 - lr: 1.0000e-04\n",
            "Epoch 28/100\n",
            "1154/1154 [==============================] - 5s 5ms/step - loss: 0.0468 - mape: 0.9783 - val_loss: 0.0365 - val_mape: 0.8856 - lr: 1.0000e-04\n",
            "Epoch 29/100\n",
            "1154/1154 [==============================] - 7s 6ms/step - loss: 0.0468 - mape: 0.9779 - val_loss: 0.0366 - val_mape: 0.8836 - lr: 1.0000e-04\n",
            "Epoch 30/100\n",
            "1154/1154 [==============================] - 8s 7ms/step - loss: 0.0465 - mape: 0.9756 - val_loss: 0.0365 - val_mape: 0.8832 - lr: 1.0000e-04\n",
            "Epoch 31/100\n",
            "1154/1154 [==============================] - 9s 8ms/step - loss: 0.0465 - mape: 0.9756 - val_loss: 0.0361 - val_mape: 0.8789 - lr: 1.0000e-04\n",
            "Epoch 32/100\n",
            "1154/1154 [==============================] - 5s 5ms/step - loss: 0.0466 - mape: 0.9763 - val_loss: 0.0362 - val_mape: 0.8798 - lr: 1.0000e-04\n",
            "Epoch 33/100\n",
            "1154/1154 [==============================] - 6s 5ms/step - loss: 0.0466 - mape: 0.9764 - val_loss: 0.0356 - val_mape: 0.8703 - lr: 1.0000e-04\n",
            "Epoch 34/100\n",
            "1154/1154 [==============================] - 7s 6ms/step - loss: 0.0466 - mape: 0.9751 - val_loss: 0.0358 - val_mape: 0.8720 - lr: 1.0000e-04\n",
            "Epoch 35/100\n",
            "1154/1154 [==============================] - 5s 4ms/step - loss: 0.0464 - mape: 0.9741 - val_loss: 0.0354 - val_mape: 0.8718 - lr: 1.0000e-04\n",
            "Epoch 36/100\n",
            "1154/1154 [==============================] - 7s 6ms/step - loss: 0.0464 - mape: 0.9743 - val_loss: 0.0365 - val_mape: 0.8856 - lr: 1.0000e-04\n",
            "Epoch 37/100\n",
            "1154/1154 [==============================] - 5s 5ms/step - loss: 0.0465 - mape: 0.9748 - val_loss: 0.0353 - val_mape: 0.8720 - lr: 1.0000e-04\n",
            "Epoch 38/100\n",
            "1154/1154 [==============================] - 6s 5ms/step - loss: 0.0463 - mape: 0.9724 - val_loss: 0.0355 - val_mape: 0.8728 - lr: 1.0000e-04\n",
            "Epoch 39/100\n",
            "1154/1154 [==============================] - 6s 6ms/step - loss: 0.0465 - mape: 0.9730 - val_loss: 0.0358 - val_mape: 0.8751 - lr: 1.0000e-04\n",
            "Epoch 40/100\n",
            "1154/1154 [==============================] - 5s 4ms/step - loss: 0.0464 - mape: 0.9744 - val_loss: 0.0356 - val_mape: 0.8720 - lr: 1.0000e-04\n",
            "Epoch 41/100\n",
            "1154/1154 [==============================] - 7s 6ms/step - loss: 0.0463 - mape: 0.9724 - val_loss: 0.0356 - val_mape: 0.8707 - lr: 1.0000e-04\n",
            "Epoch 42/100\n",
            "1154/1154 [==============================] - 5s 5ms/step - loss: 0.0463 - mape: 0.9727 - val_loss: 0.0351 - val_mape: 0.8655 - lr: 1.0000e-04\n",
            "Epoch 43/100\n",
            "1154/1154 [==============================] - 6s 5ms/step - loss: 0.0461 - mape: 0.9703 - val_loss: 0.0360 - val_mape: 0.8736 - lr: 1.0000e-04\n",
            "Epoch 44/100\n",
            "1154/1154 [==============================] - 7s 6ms/step - loss: 0.0465 - mape: 0.9738 - val_loss: 0.0355 - val_mape: 0.8713 - lr: 1.0000e-04\n",
            "Epoch 45/100\n",
            "1154/1154 [==============================] - 6s 5ms/step - loss: 0.0461 - mape: 0.9693 - val_loss: 0.0351 - val_mape: 0.8657 - lr: 1.0000e-04\n",
            "Epoch 46/100\n",
            "1154/1154 [==============================] - 7s 6ms/step - loss: 0.0461 - mape: 0.9716 - val_loss: 0.0358 - val_mape: 0.8708 - lr: 1.0000e-04\n",
            "Epoch 47/100\n",
            "1154/1154 [==============================] - 6s 5ms/step - loss: 0.0462 - mape: 0.9716 - val_loss: 0.0352 - val_mape: 0.8674 - lr: 1.0000e-04\n",
            "Epoch 48/100\n",
            "1154/1154 [==============================] - 7s 6ms/step - loss: 0.0460 - mape: 0.9691 - val_loss: 0.0354 - val_mape: 0.8688 - lr: 1.0000e-04\n",
            "Epoch 49/100\n",
            "1154/1154 [==============================] - 6s 5ms/step - loss: 0.0461 - mape: 0.9709 - val_loss: 0.0357 - val_mape: 0.8702 - lr: 1.0000e-04\n",
            "Epoch 50/100\n",
            "1154/1154 [==============================] - 5s 5ms/step - loss: 0.0460 - mape: 0.9694 - val_loss: 0.0344 - val_mape: 0.8571 - lr: 1.0000e-04\n",
            "Epoch 51/100\n",
            "1154/1154 [==============================] - 7s 6ms/step - loss: 0.0459 - mape: 0.9679 - val_loss: 0.0354 - val_mape: 0.8701 - lr: 1.0000e-04\n",
            "Epoch 52/100\n",
            "1154/1154 [==============================] - 6s 5ms/step - loss: 0.0457 - mape: 0.9676 - val_loss: 0.0359 - val_mape: 0.8744 - lr: 1.0000e-04\n",
            "Epoch 53/100\n",
            "1154/1154 [==============================] - 7s 6ms/step - loss: 0.0459 - mape: 0.9661 - val_loss: 0.0363 - val_mape: 0.8832 - lr: 1.0000e-04\n",
            "Epoch 54/100\n",
            "1154/1154 [==============================] - 6s 5ms/step - loss: 0.0458 - mape: 0.9671 - val_loss: 0.0352 - val_mape: 0.8681 - lr: 1.0000e-04\n",
            "Epoch 55/100\n",
            "1154/1154 [==============================] - 6s 5ms/step - loss: 0.0458 - mape: 0.9668 - val_loss: 0.0354 - val_mape: 0.8717 - lr: 1.0000e-04\n",
            "Epoch 56/100\n",
            "1154/1154 [==============================] - 7s 6ms/step - loss: 0.0458 - mape: 0.9681 - val_loss: 0.0359 - val_mape: 0.8743 - lr: 1.0000e-04\n",
            "Epoch 57/100\n",
            "1154/1154 [==============================] - 6s 5ms/step - loss: 0.0456 - mape: 0.9648 - val_loss: 0.0346 - val_mape: 0.8606 - lr: 1.0000e-04\n",
            "Epoch 58/100\n",
            "1154/1154 [==============================] - 7s 6ms/step - loss: 0.0456 - mape: 0.9652 - val_loss: 0.0350 - val_mape: 0.8667 - lr: 1.0000e-04\n",
            "Epoch 59/100\n",
            "1154/1154 [==============================] - 5s 5ms/step - loss: 0.0456 - mape: 0.9647 - val_loss: 0.0356 - val_mape: 0.8759 - lr: 1.0000e-04\n",
            "Epoch 60/100\n",
            "1154/1154 [==============================] - 7s 6ms/step - loss: 0.0454 - mape: 0.9643 - val_loss: 0.0355 - val_mape: 0.8722 - lr: 1.0000e-04\n",
            "Epoch 61/100\n",
            "1154/1154 [==============================] - 6s 5ms/step - loss: 0.0457 - mape: 0.9651 - val_loss: 0.0356 - val_mape: 0.8751 - lr: 1.0000e-04\n",
            "Epoch 62/100\n",
            "1154/1154 [==============================] - 6s 5ms/step - loss: 0.0456 - mape: 0.9649 - val_loss: 0.0352 - val_mape: 0.8686 - lr: 1.0000e-04\n",
            "Epoch 63/100\n",
            "1154/1154 [==============================] - 7s 6ms/step - loss: 0.0455 - mape: 0.9649 - val_loss: 0.0364 - val_mape: 0.8812 - lr: 1.0000e-04\n",
            "Epoch 64/100\n",
            "1154/1154 [==============================] - 5s 5ms/step - loss: 0.0455 - mape: 0.9643 - val_loss: 0.0359 - val_mape: 0.8770 - lr: 1.0000e-04\n",
            "Epoch 65/100\n",
            "1154/1154 [==============================] - 7s 6ms/step - loss: 0.0456 - mape: 0.9639 - val_loss: 0.0355 - val_mape: 0.8741 - lr: 1.0000e-04\n",
            "Epoch 66/100\n",
            "1154/1154 [==============================] - 6s 5ms/step - loss: 0.0457 - mape: 0.9650 - val_loss: 0.0354 - val_mape: 0.8724 - lr: 1.0000e-04\n",
            "Epoch 67/100\n",
            "1154/1154 [==============================] - 5s 4ms/step - loss: 0.0456 - mape: 0.9647 - val_loss: 0.0360 - val_mape: 0.8824 - lr: 1.0000e-04\n",
            "Epoch 68/100\n",
            "1154/1154 [==============================] - 7s 6ms/step - loss: 0.0455 - mape: 0.9633 - val_loss: 0.0374 - val_mape: 0.8961 - lr: 1.0000e-04\n",
            "Epoch 69/100\n",
            "1154/1154 [==============================] - 6s 5ms/step - loss: 0.0455 - mape: 0.9639 - val_loss: 0.0347 - val_mape: 0.8642 - lr: 1.0000e-04\n",
            "Epoch 70/100\n",
            "1154/1154 [==============================] - 6s 6ms/step - loss: 0.0455 - mape: 0.9639 - val_loss: 0.0361 - val_mape: 0.8787 - lr: 1.0000e-04\n",
            "Epoch 71/100\n",
            "1154/1154 [==============================] - 6s 5ms/step - loss: 0.0455 - mape: 0.9636 - val_loss: 0.0351 - val_mape: 0.8700 - lr: 1.0000e-04\n",
            "Epoch 72/100\n",
            "1154/1154 [==============================] - 5s 4ms/step - loss: 0.0455 - mape: 0.9648 - val_loss: 0.0358 - val_mape: 0.8772 - lr: 1.0000e-04\n",
            "Epoch 73/100\n",
            "1154/1154 [==============================] - 7s 6ms/step - loss: 0.0452 - mape: 0.9611 - val_loss: 0.0348 - val_mape: 0.8678 - lr: 1.0000e-04\n",
            "Epoch 74/100\n",
            "1154/1154 [==============================] - 5s 5ms/step - loss: 0.0452 - mape: 0.9612 - val_loss: 0.0356 - val_mape: 0.8737 - lr: 1.0000e-04\n",
            "Epoch 75/100\n",
            "1154/1154 [==============================] - 6s 5ms/step - loss: 0.0452 - mape: 0.9607 - val_loss: 0.0350 - val_mape: 0.8695 - lr: 1.0000e-04\n",
            "Epoch 76/100\n",
            "1154/1154 [==============================] - 6s 5ms/step - loss: 0.0452 - mape: 0.9608 - val_loss: 0.0351 - val_mape: 0.8700 - lr: 1.0000e-04\n",
            "Epoch 77/100\n",
            "1154/1154 [==============================] - 5s 5ms/step - loss: 0.0454 - mape: 0.9621 - val_loss: 0.0365 - val_mape: 0.8869 - lr: 1.0000e-04\n",
            "Epoch 78/100\n",
            "1154/1154 [==============================] - 8s 7ms/step - loss: 0.0457 - mape: 0.9641 - val_loss: 0.0362 - val_mape: 0.8800 - lr: 1.0000e-04\n",
            "Epoch 79/100\n",
            "1154/1154 [==============================] - 5s 5ms/step - loss: 0.0452 - mape: 0.9607 - val_loss: 0.0357 - val_mape: 0.8767 - lr: 1.0000e-04\n",
            "Epoch 80/100\n",
            "1154/1154 [==============================] - 6s 5ms/step - loss: 0.0451 - mape: 0.9603 - val_loss: 0.0358 - val_mape: 0.8787 - lr: 1.0000e-04\n",
            "Epoch 81/100\n",
            "1154/1154 [==============================] - 7s 6ms/step - loss: 0.0452 - mape: 0.9606 - val_loss: 0.0359 - val_mape: 0.8827 - lr: 1.0000e-04\n",
            "Epoch 82/100\n",
            "1154/1154 [==============================] - 5s 4ms/step - loss: 0.0453 - mape: 0.9609 - val_loss: 0.0353 - val_mape: 0.8726 - lr: 1.0000e-04\n",
            "Epoch 83/100\n",
            "1154/1154 [==============================] - 8s 7ms/step - loss: 0.0454 - mape: 0.9628 - val_loss: 0.0352 - val_mape: 0.8706 - lr: 1.0000e-04\n",
            "Epoch 84/100\n",
            "1154/1154 [==============================] - 5s 5ms/step - loss: 0.0453 - mape: 0.9609 - val_loss: 0.0356 - val_mape: 0.8751 - lr: 1.0000e-04\n",
            "Epoch 85/100\n",
            "1154/1154 [==============================] - 7s 6ms/step - loss: 0.0452 - mape: 0.9612 - val_loss: 0.0357 - val_mape: 0.8745 - lr: 1.0000e-04\n",
            "Epoch 86/100\n",
            "1154/1154 [==============================] - 6s 5ms/step - loss: 0.0451 - mape: 0.9604 - val_loss: 0.0361 - val_mape: 0.8835 - lr: 1.0000e-04\n",
            "Epoch 87/100\n",
            "1154/1154 [==============================] - 5s 5ms/step - loss: 0.0451 - mape: 0.9596 - val_loss: 0.0364 - val_mape: 0.8855 - lr: 1.0000e-04\n",
            "Epoch 88/100\n",
            "1154/1154 [==============================] - 8s 7ms/step - loss: 0.0451 - mape: 0.9591 - val_loss: 0.0366 - val_mape: 0.8879 - lr: 1.0000e-04\n",
            "Epoch 89/100\n",
            "1154/1154 [==============================] - 5s 4ms/step - loss: 0.0453 - mape: 0.9612 - val_loss: 0.0362 - val_mape: 0.8845 - lr: 1.0000e-04\n",
            "Epoch 90/100\n",
            "1154/1154 [==============================] - 6s 5ms/step - loss: 0.0454 - mape: 0.9626 - val_loss: 0.0358 - val_mape: 0.8844 - lr: 1.0000e-04\n",
            "Epoch 91/100\n",
            "1154/1154 [==============================] - 8s 7ms/step - loss: 0.0450 - mape: 0.9593 - val_loss: 0.0352 - val_mape: 0.8748 - lr: 1.0000e-04\n",
            "Epoch 92/100\n",
            "1154/1154 [==============================] - 5s 5ms/step - loss: 0.0450 - mape: 0.9596 - val_loss: 0.0356 - val_mape: 0.8766 - lr: 1.0000e-04\n",
            "Epoch 93/100\n",
            "1154/1154 [==============================] - 7s 6ms/step - loss: 0.0448 - mape: 0.9578 - val_loss: 0.0353 - val_mape: 0.8716 - lr: 1.0000e-04\n",
            "Epoch 94/100\n",
            "1154/1154 [==============================] - 5s 5ms/step - loss: 0.0452 - mape: 0.9608 - val_loss: 0.0360 - val_mape: 0.8795 - lr: 1.0000e-04\n",
            "Epoch 95/100\n",
            "1154/1154 [==============================] - 6s 5ms/step - loss: 0.0450 - mape: 0.9591 - val_loss: 0.0370 - val_mape: 0.8908 - lr: 1.0000e-04\n",
            "Epoch 96/100\n",
            "1154/1154 [==============================] - 6s 6ms/step - loss: 0.0451 - mape: 0.9588 - val_loss: 0.0369 - val_mape: 0.8861 - lr: 1.0000e-04\n",
            "Epoch 97/100\n",
            "1154/1154 [==============================] - 5s 5ms/step - loss: 0.0453 - mape: 0.9595 - val_loss: 0.0354 - val_mape: 0.8746 - lr: 1.0000e-04\n",
            "Epoch 98/100\n",
            "1154/1154 [==============================] - 7s 6ms/step - loss: 0.0452 - mape: 0.9616 - val_loss: 0.0357 - val_mape: 0.8775 - lr: 1.0000e-04\n",
            "Epoch 99/100\n",
            "1154/1154 [==============================] - 5s 5ms/step - loss: 0.0451 - mape: 0.9588 - val_loss: 0.0351 - val_mape: 0.8713 - lr: 1.0000e-04\n",
            "Epoch 100/100\n",
            "1154/1154 [==============================] - 6s 5ms/step - loss: 0.0453 - mape: 0.9611 - val_loss: 0.0360 - val_mape: 0.8812 - lr: 1.0000e-04\n"
          ]
        }
      ],
      "source": [
        "# тренируем модель\n",
        "history = model.fit(\n",
        "    X_trainN_norm, y_trainn,\n",
        "    batch_size=256,\n",
        "    epochs=100,\n",
        "    verbose=1,\n",
        "    validation_data=(X_trainV_norm, y_trainV), callbacks=[checkpoint, reduce_lr])"
      ]
    },
    {
      "cell_type": "code",
      "source": [
        "frame_history_df = pd.DataFrame.from_dict(history.history)\n",
        "frame_history_df[frame_history_df[\"val_mape\"] == frame_history_df[\"val_mape\"].min()]\n",
        "frame_history_df.to_csv(\"models_log.csv\", index=False)\n",
        "model = keras.models.load_model(\"models/model.keras\")\n",
        "y_pred_fcl = model.predict(X_trainV_norm, verbose=1).reshape(-1,)"
      ],
      "metadata": {
        "colab": {
          "base_uri": "https://localhost:8080/"
        },
        "id": "UFn40Wellx12",
        "outputId": "a6e75db7-7fba-4db3-d318-07a2760cb4fb"
      },
      "execution_count": null,
      "outputs": [
        {
          "output_type": "stream",
          "name": "stdout",
          "text": [
            "3075/3075 [==============================] - 10s 3ms/step\n"
          ]
        }
      ]
    },
    {
      "cell_type": "code",
      "source": [
        "print(y_pred_fcl)"
      ],
      "metadata": {
        "colab": {
          "base_uri": "https://localhost:8080/"
        },
        "id": "AkwAr8TPrFGf",
        "outputId": "c65f6051-6e53-4d0e-bdfe-910627fa0321"
      },
      "execution_count": null,
      "outputs": [
        {
          "output_type": "stream",
          "name": "stdout",
          "text": [
            "[15.635322 15.651991 15.669962 ... 15.948352 16.322342 15.514016]\n"
          ]
        }
      ]
    },
    {
      "cell_type": "code",
      "source": [
        "import numpy as np\n",
        "from sklearn.ensemble import RandomForestRegressor\n",
        "from sklearn.neural_network import MLPRegressor\n",
        "from sklearn.linear_model import LinearRegression\n",
        "\n",
        "a = 98398\n",
        "\n",
        "#train (new)\n",
        "X_trainn = X_train[:-a]\n",
        "y_trainn = y_train[:-a]\n",
        "#valid\n",
        "X_trainV = X_train[-a:]\n",
        "y_trainV = y_train[-a:]\n",
        "\n",
        "# Train rf model\n",
        "rf_regressor = RandomForestRegressor(n_estimators=400, max_depth=15)\n",
        "rf_regressor.fit(X_trainn, y_trainn)\n",
        "\n",
        "# Make predictions on holdout set\n",
        "y_pred_rf = rf_regressor.predict(X_trainV)\n",
        "\n",
        "# Stack predictions\n",
        "X_train_stack = np.vstack((y_pred_rf, y_pred_fcl)).T\n",
        "\n",
        "# Train linear regression model on stacked predictions\n",
        "lr = LinearRegression()\n",
        "lr.fit(X_train_stack, y_trainV)\n",
        "\n",
        "# Make predictions on test set\n",
        "y_pred_rf_test = rf_regressor.predict(X_test)\n",
        "y_pred_fcl_test = fcl_model.predict(X_test)\n",
        "X_test_stack = np.vstack((y_pred_rf_test, y_pred_fcl_test)).T\n",
        "y_pred_final = lr.predict(X_test_stack)\n",
        "\n",
        "print(\"Final predictions:\", y_pred_final)"
      ],
      "metadata": {
        "colab": {
          "base_uri": "https://localhost:8080/"
        },
        "id": "gFI3P1UV9iK0",
        "outputId": "a275167f-23f4-459b-fadf-ffad633b10ed"
      },
      "execution_count": null,
      "outputs": [
        {
          "output_type": "stream",
          "name": "stdout",
          "text": [
            "Final predictions: [15.52498669 15.39261411 15.65796755 ... 15.24069476 15.51345971\n",
            " 16.42257086]\n"
          ]
        }
      ]
    },
    {
      "cell_type": "code",
      "source": [
        "from sklearn.metrics import mean_absolute_error, mean_absolute_percentage_error, mean_squared_error\n",
        "# Calculate Mean Absolute Error (MAE)\n",
        "mae = mean_absolute_error(y_test, np.exp(y_pred_final))\n",
        "\n",
        "# Calculate Mean Absolute Percentage Error (MAPE)\n",
        "mape = mean_absolute_percentage_error(y_test, np.exp(y_pred_final))\n",
        "\n",
        "# Calculate Root Mean Squared Log Error (MAPE)\n",
        "rmsle = np.sqrt(np.mean(y_pred_final - np.log(y_test))**2.0)\n",
        "\n",
        "print(\"Mean Absolute Error: \", mae)\n",
        "print(\"Mean Absolute Percentage Error: \", mape)\n",
        "print(\"Root Mean Squared Log Error: \", rmsle)"
      ],
      "metadata": {
        "colab": {
          "base_uri": "https://localhost:8080/"
        },
        "id": "A34CwovXGCyL",
        "outputId": "d1d18df9-2797-4aef-d354-d37930f7ab60"
      },
      "execution_count": null,
      "outputs": [
        {
          "output_type": "stream",
          "name": "stdout",
          "text": [
            "Mean Absolute Error:  1356486.2019733414\n",
            "Mean Absolute Percentage Error:  0.11200437826812204\n",
            "Root Mean Squared Log Error:  0.050358097188733915\n"
          ]
        }
      ]
    },
    {
      "cell_type": "code",
      "execution_count": null,
      "metadata": {
        "id": "etKONYAxSpVI"
      },
      "outputs": [],
      "source": [
        "#RF\n",
        "#Base and Meta\n",
        "\n",
        "import numpy as np\n",
        "from sklearn.ensemble import RandomForestRegressor\n",
        "from sklearn.neural_network import MLPRegressor\n",
        "from sklearn.model_selection import train_test_split\n",
        "from sklearn.metrics import mean_squared_error\n",
        "\n",
        "\n",
        "\n",
        "# Define the base model (Random Forest Regressor)\n",
        "base_model = RandomForestRegressor(n_estimators=400, max_depth=15)\n",
        "\n",
        "# Define the meta model (Fully Connected layer)\n",
        "meta_model = MLPRegressor(hidden_layer_sizes=(64, 32), activation='relu', batch_size=256,  shuffle=True)\n",
        "\n",
        "# Train the base model\n",
        "base_model.fit(X_train, y_train)\n",
        "\n",
        "# Get the predictions from the base model\n",
        "base_pred = base_model.predict(X_train)\n",
        "\n",
        "# Create a new dataset with the predictions from the base model as input features\n",
        "X_new = np.concatenate((X_train, base_pred.reshape(-1, 1)), axis=1)\n",
        "\n",
        "# Train the meta model\n",
        "meta_model.fit(X_new, y_train)\n",
        "\n",
        "# Make predictions on the test set using the ensemble model\n",
        "y_pred = meta_model.predict(np.concatenate((X_test, base_model.predict(X_test).reshape(-1, 1)), axis=1))\n",
        "\n",
        "# Evaluate the ensemble model\n",
        "from sklearn.metrics import mean_absolute_error, mean_absolute_percentage_error, mean_squared_error\n",
        "# Calculate Mean Absolute Error (MAE)\n",
        "mae = mean_absolute_error(y_test, np.exp(y_pred))\n",
        "\n",
        "# Calculate Mean Absolute Percentage Error (MAPE)\n",
        "mape = mean_absolute_percentage_error(y_test, np.exp(y_pred))\n",
        "\n",
        "# Calculate Root Mean Squared Log Error (MAPE)\n",
        "rmsle = np.sqrt(np.mean(y_pred - np.log(y_test))**2.0)\n",
        "\n",
        "print(\"Mean Absolute Error: \", mae)\n",
        "print(\"Mean Absolute Percentage Error: \", mape)\n",
        "print(\"Root Mean Squared Log Error: \", rmsle)\n"
      ]
    },
    {
      "cell_type": "code",
      "source": [
        "import numpy as np\n",
        "import xgboost as xgb\n",
        "from sklearn.neural_network import MLPRegressor\n",
        "from sklearn.linear_model import LinearRegression\n",
        "\n",
        "a = 98398\n",
        "\n",
        "#train (new)\n",
        "X_trainn = X_train[:-a]\n",
        "y_trainn = y_train[:-a]\n",
        "#valid\n",
        "X_trainV = X_train[-a:]\n",
        "y_trainV = y_train[-a:]\n",
        "\n",
        "# Train XGBoost model\n",
        "xgb_regressor = xgb.XGBRegressor(objective='reg:squarederror', n_estimators = 1000, max_depth = 10, learning_rate = 0.1, enable_categorical = True)\n",
        "xgb_regressor.fit(X_trainn, y_trainn)\n",
        "\n",
        "\n",
        "# Make predictions on holdout set\n",
        "y_pred_xgb = xgb_regressor.predict(X_trainV )\n",
        "\n",
        "\n",
        "# Stack predictions\n",
        "X_train_stack = np.vstack((y_pred_xgb, y_pred_fcl)).T\n",
        "\n",
        "# Train linear regression model on stacked predictions\n",
        "lr = LinearRegression()\n",
        "lr.fit(X_train_stack, y_trainV)\n",
        "\n",
        "# Make predictions on test set\n",
        "y_pred_xgb_test = xgb_regressor.predict(X_test)\n",
        "y_pred_fcl_test = fcl_model.predict(X_test)\n",
        "X_test_stack = np.vstack((y_pred_xgb_test, y_pred_fcl_test)).T\n",
        "y_pred_final = lr.predict(X_test_stack)\n",
        "\n",
        "print(\"Final predictions:\", y_pred_final)"
      ],
      "metadata": {
        "colab": {
          "base_uri": "https://localhost:8080/"
        },
        "id": "A6Vj62NhHncL",
        "outputId": "0545cdfe-0acf-4b26-c029-2e0ac3418336"
      },
      "execution_count": null,
      "outputs": [
        {
          "output_type": "stream",
          "name": "stdout",
          "text": [
            "Final predictions: [15.4906256  15.40068789 15.71414104 ... 15.21405226 15.56231596\n",
            " 16.39327844]\n"
          ]
        }
      ]
    },
    {
      "cell_type": "code",
      "source": [
        "from sklearn.metrics import mean_absolute_error, mean_absolute_percentage_error, mean_squared_error\n",
        "# Calculate Mean Absolute Error (MAE)\n",
        "mae = mean_absolute_error(y_test, np.exp(y_pred_final))\n",
        "\n",
        "# Calculate Mean Absolute Percentage Error (MAPE)\n",
        "mape = mean_absolute_percentage_error(y_test, np.exp(y_pred_final))\n",
        "\n",
        "# Calculate Root Mean Squared Log Error (MAPE)\n",
        "rmsle = np.sqrt(np.mean(y_pred_final - np.log(y_test))**2.0)\n",
        "\n",
        "print(\"Mean Absolute Error: \", mae)\n",
        "print(\"Mean Absolute Percentage Error: \", mape)\n",
        "print(\"Root Mean Squared Log Error: \", rmsle)"
      ],
      "metadata": {
        "colab": {
          "base_uri": "https://localhost:8080/"
        },
        "id": "_RRjfhr8HvvK",
        "outputId": "ffe01e49-b48c-4cd2-91ab-a52e08887bd0"
      },
      "execution_count": null,
      "outputs": [
        {
          "output_type": "stream",
          "name": "stdout",
          "text": [
            "Mean Absolute Error:  1250986.2303879734\n",
            "Mean Absolute Percentage Error:  0.10379771787990201\n",
            "Root Mean Squared Log Error:  0.051947632245624056\n"
          ]
        }
      ]
    },
    {
      "cell_type": "code",
      "execution_count": null,
      "metadata": {
        "id": "8AGYvL0HgJa5",
        "colab": {
          "base_uri": "https://localhost:8080/"
        },
        "outputId": "ca569232-7c38-4945-b9ce-be67ede34b76"
      },
      "outputs": [
        {
          "output_type": "stream",
          "name": "stdout",
          "text": [
            "Mean Absolute Error:  1199830.0709619669\n",
            "Mean Absolute Percentage Error:  0.10021235260663525\n",
            "Root Mean Squared Log Error:  0.0725534274328916\n"
          ]
        }
      ],
      "source": [
        "#Base and Meta XGBoost\n",
        "\n",
        "import numpy as np\n",
        "from xgboost import XGBRegressor\n",
        "from sklearn.neural_network import MLPRegressor\n",
        "from sklearn.model_selection import train_test_split\n",
        "from sklearn.metrics import mean_squared_error\n",
        "\n",
        "\n",
        "\n",
        "# Define the base model (XGBoost Regressor)\n",
        "base_model = XGBRegressor(objective='reg:squarederror', n_estimators = 1000, max_depth = 10, learning_rate = 0.1, enable_categorical = True)\n",
        "\n",
        "# Define the meta model (Fully Connected layer)\n",
        "meta_model = MLPRegressor(hidden_layer_sizes=(64, 32), activation='relu', batch_size=256, shuffle=True)\n",
        "\n",
        "# Train the base model\n",
        "base_model.fit(X_train, y_train)\n",
        "\n",
        "# Get the predictions from the base model\n",
        "base_pred = base_model.predict(X_train)\n",
        "\n",
        "# Create a new dataset with the predictions from the base model as input features\n",
        "X_new = np.concatenate((X_train, base_pred.reshape(-1, 1)), axis=1)\n",
        "\n",
        "# Train the meta model\n",
        "meta_model.fit(X_new, y_train)\n",
        "\n",
        "# Make predictions on the test set using the ensemble model\n",
        "y_pred = meta_model.predict(np.concatenate((X_test, base_model.predict(X_test).reshape(-1, 1)), axis=1))\n",
        "\n",
        "from sklearn.metrics import mean_absolute_error, mean_absolute_percentage_error, mean_squared_error\n",
        "# Calculate Mean Absolute Error (MAE)\n",
        "mae = mean_absolute_error(y_test, np.exp(y_pred))\n",
        "\n",
        "# Calculate Mean Absolute Percentage Error (MAPE)\n",
        "mape = mean_absolute_percentage_error(y_test, np.exp(y_pred))\n",
        "\n",
        "# Calculate Root Mean Squared Log Error (MAPE)\n",
        "rmsle = np.sqrt(np.mean(y_pred - np.log(y_test))**2.0)\n",
        "\n",
        "print(\"Mean Absolute Error: \", mae)\n",
        "print(\"Mean Absolute Percentage Error: \", mape)\n",
        "print(\"Root Mean Squared Log Error: \", rmsle)\n"
      ]
    },
    {
      "cell_type": "code",
      "execution_count": null,
      "metadata": {
        "colab": {
          "base_uri": "https://localhost:8080/"
        },
        "id": "CYuTYSPnG6NL",
        "outputId": "3dc700d0-71d8-452f-b3f0-e6477e7b8310"
      },
      "outputs": [
        {
          "name": "stdout",
          "output_type": "stream",
          "text": [
            "Mean Absolute Error:  4884017266241.521\n",
            "Mean Absolute Percentage Error:  9.089926015421058\n",
            "Root Mean Squared Log Error:  0.008798107361659386\n"
          ]
        }
      ],
      "source": [
        "from sklearn.ensemble import StackingRegressor\n",
        "from sklearn.neural_network import MLPRegressor\n",
        "from xgboost import XGBRegressor\n",
        "\n",
        "# Загрузка данных и подготовка к обучению\n",
        "# X - входные данные, y - целевые данные\n",
        "\n",
        "# Параметры для полностью связанного слоя\n",
        "hidden_layer_sizes = (100,)\n",
        "alpha = 0.01\n",
        "\n",
        "# Параметры для XGBoost Regressor\n",
        "n_estimators = 100\n",
        "learning_rate = 0.1\n",
        "\n",
        "# Обучение полностью связанного слоя\n",
        "mlp_regressor = MLPRegressor(hidden_layer_sizes=hidden_layer_sizes, alpha=alpha, random_state=1)\n",
        "mlp_regressor.fit(X_train, y_train)\n",
        "\n",
        "\n",
        "X_train_old: (X_train (new), X_valid), X_test\n",
        "\n",
        "#тест: класс алг, нн, стекинг\n",
        "\n",
        "X_train[:-a] - train (new)\n",
        "X_train[-a:] - valid\n",
        "\n",
        "\n",
        "# Обучение XGBoost Regressor\n",
        "xgb_regressor = XGBRegressor(objective='reg:squarederror',\n",
        "                             n_estimators=1000,\n",
        "                             max_depth=10,\n",
        "                             learning_rate = 0.1,\n",
        "                             enable_categorical=True)\n",
        "\n",
        "xgb_regressor.fit(X_train[:-a], y_train[:-a])\n",
        "\n",
        "y_pred_xgb = xgb_regressor.predict(X_train[-a:])\n",
        "\n",
        "y_pred_nn = model_nn.predict(X_train[-a:])\n",
        "\n",
        "X_train_stack = np.vstack((y_pred_xgb, y_pred_nn))\n",
        "\n",
        "lr.fit(X_train_stack, y_valid)\n",
        "\n",
        "y_pred_xgb_test = xgb_regressor.predict(X_test)\n",
        "y_pred_nn_test = model_nn.predict(X_test)\n",
        "X_test_stack = np.vstack((y_pred_xgb_test, y_pred_nn_test))\n",
        "lr.predict(X_test_stack)\n",
        "\n",
        "простой стекинг: 0.5*y_pred_xgb + 0.5*y_pred_nn\n",
        "\n",
        "class Model(sklearn....):\n",
        "  self.model = keras.model\n",
        "\n",
        "  def predict(X):\n",
        "    return self.model.predict(X).reshape(-1,)\n",
        "\n",
        "# Создание ансамбля стекинга\n",
        "stacking_regressor = StackingRegressor(estimators=[('nn', keras_model), ('xgb', xgb_regressor)], final_estimator=LinearRegression())\n",
        "\n",
        "# Обучение ансамбля стекинга\n",
        "stacking_regressor.fit(X_train, y_train)\n",
        "\n",
        "# Прогнозирование с помощью ансамбля стекинга\n",
        "y_pred = stacking_regressor.predict(X_test)\n",
        "\n",
        "# Calculate Mean Absolute Error (MAE)\n",
        "mae = np.mean((np.exp(y_pred) - y_test)**2)\n",
        "\n",
        "# Calculate Mean Absolute Percentage Error (MAPE)\n",
        "mape = np.mean(np.abs((y_test - np.exp(y_pred)) / y_test)) * 100\n",
        "\n",
        "# Calculate Root Mean Squared Log Error (MAPE)\n",
        "rmsle = np.sqrt(mean_squared_log_error(np.log(y_test) , np.abs(y_pred)))\n",
        "\n",
        "\n",
        "print(\"Mean Absolute Error: \", mae)\n",
        "print(\"Mean Absolute Percentage Error: \", mape)\n",
        "print(\"Root Mean Squared Log Error: \", rmsle)\n"
      ]
    }
  ],
  "metadata": {
    "colab": {
      "provenance": []
    },
    "kernelspec": {
      "display_name": "Python 3",
      "name": "python3"
    },
    "language_info": {
      "name": "python"
    }
  },
  "nbformat": 4,
  "nbformat_minor": 0
}